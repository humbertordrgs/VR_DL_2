{
 "cells": [
  {
   "cell_type": "markdown",
   "metadata": {
    "id": "5wlEJwvtXV9M"
   },
   "source": [
    "## Libraries and Utilities"
   ]
  },
  {
   "cell_type": "code",
   "execution_count": 1,
   "metadata": {
    "colab": {
     "base_uri": "https://localhost:8080/"
    },
    "id": "zZ05UwSAbFna",
    "outputId": "0611a110-4b13-4a11-d99d-d30eabbd64ae"
   },
   "outputs": [
    {
     "name": "stdout",
     "output_type": "stream",
     "text": [
      "--2021-05-23 05:50:25--  https://raw.githubusercontent.com/humbertordrgs/VR_DL_2/master/utils/utils.py\n",
      "Resolving raw.githubusercontent.com (raw.githubusercontent.com)... 185.199.108.133, 185.199.109.133, 185.199.110.133, ...\n",
      "Connecting to raw.githubusercontent.com (raw.githubusercontent.com)|185.199.108.133|:443... connected.\n",
      "HTTP request sent, awaiting response... 200 OK\n",
      "Length: 1385 (1.4K) [text/plain]\n",
      "Saving to: ‘utils.py’\n",
      "\n",
      "utils.py            100%[===================>]   1.35K  --.-KB/s    in 0s      \n",
      "\n",
      "2021-05-23 05:50:26 (27.7 MB/s) - ‘utils.py’ saved [1385/1385]\n",
      "\n",
      "--2021-05-23 05:50:26--  https://raw.githubusercontent.com/humbertordrgs/VR_DL_2/master/utils/sbir_dataset.py\n",
      "Resolving raw.githubusercontent.com (raw.githubusercontent.com)... 185.199.111.133, 185.199.108.133, 185.199.110.133, ...\n",
      "Connecting to raw.githubusercontent.com (raw.githubusercontent.com)|185.199.111.133|:443... connected.\n",
      "HTTP request sent, awaiting response... 200 OK\n",
      "Length: 2501 (2.4K) [text/plain]\n",
      "Saving to: ‘sbir_dataset.py’\n",
      "\n",
      "sbir_dataset.py     100%[===================>]   2.44K  --.-KB/s    in 0s      \n",
      "\n",
      "2021-05-23 05:50:26 (51.6 MB/s) - ‘sbir_dataset.py’ saved [2501/2501]\n",
      "\n"
     ]
    }
   ],
   "source": [
    "# Generic python libraries\n",
    "import os\n",
    "import math\n",
    "import random\n",
    "from PIL import Image\n",
    "from random import sample\n",
    "\n",
    "# PyTorch and numpy related\n",
    "import torch\n",
    "import numpy as np\n",
    "import torch.nn as nn\n",
    "import torch.optim as optim\n",
    "import torch.nn.functional as F\n",
    "from torchvision import transforms\n",
    "from torch.utils.data import Dataset, DataLoader, random_split\n",
    "\n",
    "# External tool (built by us) to format the dataset structure\n",
    "if not os.path.exists('utils.py'):\n",
    "  !wget https://raw.githubusercontent.com/humbertordrgs/VR_DL_2/master/utils/utils.py\n",
    "\n",
    "# External dataset class (built by us)\n",
    "if not os.path.exists('sbir_dataset.py'):\n",
    "  !wget https://raw.githubusercontent.com/humbertordrgs/VR_DL_2/master/utils/sbir_dataset.py\n",
    "\n",
    "from utils import load_images, get_class_map, get_processed_img, execution_time\n",
    "from sbir_dataset import SketchBasedImageRetrievalDataset"
   ]
  },
  {
   "cell_type": "markdown",
   "metadata": {
    "id": "9LpjaFxJXPQ_"
   },
   "source": [
    "## Dowloading Datasets"
   ]
  },
  {
   "cell_type": "code",
   "execution_count": 2,
   "metadata": {
    "colab": {
     "base_uri": "https://localhost:8080/"
    },
    "id": "I5TITxs5W8sL",
    "outputId": "3db6e62f-0a12-415d-e445-3f86ff557950"
   },
   "outputs": [
    {
     "name": "stdout",
     "output_type": "stream",
     "text": [
      "--2021-05-23 05:50:30--  https://www.dropbox.com/s/ut350iwgby9swk2/Sketch_EITZ.zip\n",
      "Resolving www.dropbox.com (www.dropbox.com)... 162.125.5.18, 2620:100:601d:18::a27d:512\n",
      "Connecting to www.dropbox.com (www.dropbox.com)|162.125.5.18|:443... connected.\n",
      "HTTP request sent, awaiting response... 301 Moved Permanently\n",
      "Location: /s/raw/ut350iwgby9swk2/Sketch_EITZ.zip [following]\n",
      "--2021-05-23 05:50:30--  https://www.dropbox.com/s/raw/ut350iwgby9swk2/Sketch_EITZ.zip\n",
      "Reusing existing connection to www.dropbox.com:443.\n",
      "HTTP request sent, awaiting response... 302 Found\n",
      "Location: https://uc79f1e6ba92cbac52a9042aadd0.dl.dropboxusercontent.com/cd/0/inline/BPCUtNSrIGdT3rUC0NbQMIjJ31zxhqsWuU-71KJEW9aRbyPQN5ErAu44M3r8d5txNSjJn1g0r1E-7C3M1MfBMffJtehLliMjedfigQ_dSuEWtyqOq81hg9z_Ri_sU3EaaIrOgw4wO02b3CEe2MOQvf7X/file# [following]\n",
      "--2021-05-23 05:50:30--  https://uc79f1e6ba92cbac52a9042aadd0.dl.dropboxusercontent.com/cd/0/inline/BPCUtNSrIGdT3rUC0NbQMIjJ31zxhqsWuU-71KJEW9aRbyPQN5ErAu44M3r8d5txNSjJn1g0r1E-7C3M1MfBMffJtehLliMjedfigQ_dSuEWtyqOq81hg9z_Ri_sU3EaaIrOgw4wO02b3CEe2MOQvf7X/file\n",
      "Resolving uc79f1e6ba92cbac52a9042aadd0.dl.dropboxusercontent.com (uc79f1e6ba92cbac52a9042aadd0.dl.dropboxusercontent.com)... 162.125.5.15, 2620:100:601d:15::a27d:50f\n",
      "Connecting to uc79f1e6ba92cbac52a9042aadd0.dl.dropboxusercontent.com (uc79f1e6ba92cbac52a9042aadd0.dl.dropboxusercontent.com)|162.125.5.15|:443... connected.\n",
      "HTTP request sent, awaiting response... 302 Found\n",
      "Location: /cd/0/inline2/BPB00Vn9ujXmbZIqqaXZE3ZipYxVAPJ55R8Zr7N-5Bmnz05vcyL0aAC1HBR9bKQhK-CGpj5l8SIphnfjKXQ1M9YA6cja7zoMngjtFOWINm8zULnrtKhj55cmmPq40OFrUo1Srl-r8bF_fy3aDowOs3ieYj-7mk4GPIYxyk4iYq1KI-f5rdEEU58rztGBZzs-WVR6FsB1gjPF9r-uNU_hq_YDnShemfdAykdg_9mCyCUQTU3yAuzlJ0-kRj3E4lyDddyuhWycjLvCRiSREwfZ-yl8mzQTbery3WvBxSM5V72nOXK5eKEDBdE6mm52VyAElxshoeRWdMBuFBHhnNYP3fF0Ks4x77QSWf9-cszrPcNDGUE3hVsnSMh6L1Ied1KZlFU/file [following]\n",
      "--2021-05-23 05:50:31--  https://uc79f1e6ba92cbac52a9042aadd0.dl.dropboxusercontent.com/cd/0/inline2/BPB00Vn9ujXmbZIqqaXZE3ZipYxVAPJ55R8Zr7N-5Bmnz05vcyL0aAC1HBR9bKQhK-CGpj5l8SIphnfjKXQ1M9YA6cja7zoMngjtFOWINm8zULnrtKhj55cmmPq40OFrUo1Srl-r8bF_fy3aDowOs3ieYj-7mk4GPIYxyk4iYq1KI-f5rdEEU58rztGBZzs-WVR6FsB1gjPF9r-uNU_hq_YDnShemfdAykdg_9mCyCUQTU3yAuzlJ0-kRj3E4lyDddyuhWycjLvCRiSREwfZ-yl8mzQTbery3WvBxSM5V72nOXK5eKEDBdE6mm52VyAElxshoeRWdMBuFBHhnNYP3fF0Ks4x77QSWf9-cszrPcNDGUE3hVsnSMh6L1Ied1KZlFU/file\n",
      "Reusing existing connection to uc79f1e6ba92cbac52a9042aadd0.dl.dropboxusercontent.com:443.\n",
      "HTTP request sent, awaiting response... 200 OK\n",
      "Length: 106834906 (102M) [application/zip]\n",
      "Saving to: ‘Sketch_EITZ.zip’\n",
      "\n",
      "Sketch_EITZ.zip     100%[===================>] 101.88M  76.9MB/s    in 1.3s    \n",
      "\n",
      "2021-05-23 05:50:32 (76.9 MB/s) - ‘Sketch_EITZ.zip’ saved [106834906/106834906]\n",
      "\n",
      "--2021-05-23 05:50:34--  https://www.dropbox.com/s/khbxruh3acq84eg/Flickr25K.zip\n",
      "Resolving www.dropbox.com (www.dropbox.com)... 162.125.5.18, 2620:100:601d:18::a27d:512\n",
      "Connecting to www.dropbox.com (www.dropbox.com)|162.125.5.18|:443... connected.\n",
      "HTTP request sent, awaiting response... 301 Moved Permanently\n",
      "Location: /s/raw/khbxruh3acq84eg/Flickr25K.zip [following]\n",
      "--2021-05-23 05:50:35--  https://www.dropbox.com/s/raw/khbxruh3acq84eg/Flickr25K.zip\n",
      "Reusing existing connection to www.dropbox.com:443.\n",
      "HTTP request sent, awaiting response... 302 Found\n",
      "Location: https://uc746c0a4e7eeb60cb14e0d04da2.dl.dropboxusercontent.com/cd/0/inline/BPAUFT7No0Pqs19IxVNH2slq3-O24aagr4Bp25ZQ2Ur4XOyDdZdH3167f8guNX8JtQMsjJlZc69zEEpEr1dJmSqQz4MJngy_SO_c0-9S5ILj4BmoORElalSJiLvA08d75-PmbcMlCICGH1hTFeNlgdXO/file# [following]\n",
      "--2021-05-23 05:50:36--  https://uc746c0a4e7eeb60cb14e0d04da2.dl.dropboxusercontent.com/cd/0/inline/BPAUFT7No0Pqs19IxVNH2slq3-O24aagr4Bp25ZQ2Ur4XOyDdZdH3167f8guNX8JtQMsjJlZc69zEEpEr1dJmSqQz4MJngy_SO_c0-9S5ILj4BmoORElalSJiLvA08d75-PmbcMlCICGH1hTFeNlgdXO/file\n",
      "Resolving uc746c0a4e7eeb60cb14e0d04da2.dl.dropboxusercontent.com (uc746c0a4e7eeb60cb14e0d04da2.dl.dropboxusercontent.com)... 162.125.5.15, 2620:100:601d:15::a27d:50f\n",
      "Connecting to uc746c0a4e7eeb60cb14e0d04da2.dl.dropboxusercontent.com (uc746c0a4e7eeb60cb14e0d04da2.dl.dropboxusercontent.com)|162.125.5.15|:443... connected.\n",
      "HTTP request sent, awaiting response... 302 Found\n",
      "Location: /cd/0/inline2/BPBIVFOkZIYRn39SrtqXrewQ8dSxcjXMXYnrr7c1MTn-yFNMkN3wbIvSFS-NkkYKQ2_j-6SDj6x1ZEylrvopqgFyC5OS_NblJP9zwbnMY7YchyxpM7-aAFVw4IFZVD0_oztkJ-MndkSiOH_w6hA-jvyJtkl9kxy3ZWPSlKYKyVRCqCfirqU_rWjw_gLyznhN9uDlwi7k7Y8tNSiMBj6FOuAhS5A174iByw8YHw4uQ0rmxtmqYa0RfmkreCqHB4YqTtZonGwVCET3Vm8weC4Id4iT58tz0PXmWPho2Vt9io0Wp2vy-7_W7lmCVUqSOsFKeAnVzF85wBkQKUtd6Ti51nfW3KZq0CsHPbGb6U0WfI4vUXsKO31XxUFsqSkAXNlisGk/file [following]\n",
      "--2021-05-23 05:50:36--  https://uc746c0a4e7eeb60cb14e0d04da2.dl.dropboxusercontent.com/cd/0/inline2/BPBIVFOkZIYRn39SrtqXrewQ8dSxcjXMXYnrr7c1MTn-yFNMkN3wbIvSFS-NkkYKQ2_j-6SDj6x1ZEylrvopqgFyC5OS_NblJP9zwbnMY7YchyxpM7-aAFVw4IFZVD0_oztkJ-MndkSiOH_w6hA-jvyJtkl9kxy3ZWPSlKYKyVRCqCfirqU_rWjw_gLyznhN9uDlwi7k7Y8tNSiMBj6FOuAhS5A174iByw8YHw4uQ0rmxtmqYa0RfmkreCqHB4YqTtZonGwVCET3Vm8weC4Id4iT58tz0PXmWPho2Vt9io0Wp2vy-7_W7lmCVUqSOsFKeAnVzF85wBkQKUtd6Ti51nfW3KZq0CsHPbGb6U0WfI4vUXsKO31XxUFsqSkAXNlisGk/file\n",
      "Reusing existing connection to uc746c0a4e7eeb60cb14e0d04da2.dl.dropboxusercontent.com:443.\n",
      "HTTP request sent, awaiting response... 200 OK\n",
      "Length: 1781690540 (1.7G) [application/zip]\n",
      "Saving to: ‘Flickr25K.zip’\n",
      "\n",
      "Flickr25K.zip       100%[===================>]   1.66G  78.4MB/s    in 22s     \n",
      "\n",
      "2021-05-23 05:50:58 (78.5 MB/s) - ‘Flickr25K.zip’ saved [1781690540/1781690540]\n",
      "\n"
     ]
    }
   ],
   "source": [
    "# Sketches dataset\n",
    "if not os.path.exists('Sketch_EITZ.zip'):\n",
    "  !wget https://www.dropbox.com/s/ut350iwgby9swk2/Sketch_EITZ.zip && unzip -q Sketch_EITZ.zip\n",
    "\n",
    "# Gallery Image Retrieval for Train and validation\n",
    "if not os.path.exists('Flickr25K.zip'):\n",
    "  !wget https://www.dropbox.com/s/khbxruh3acq84eg/Flickr25K.zip && unzip -q Flickr25K.zip\n",
    "\n",
    "# Gallery Image Retrieval for Test\n",
    "# if not os.path.exists('Flickr15K.zip'):\n",
    "#   !wget https://www.dropbox.com/s/q5ew09x4e3rsiht/Flickr15K.zip && unzip -q Flickr15K.zip\n"
   ]
  },
  {
   "cell_type": "code",
   "execution_count": 3,
   "metadata": {
    "colab": {
     "base_uri": "https://localhost:8080/"
    },
    "id": "ywIus1wEkAXI",
    "outputId": "0725853f-de55-4bd2-f51b-f210003ed5d8"
   },
   "outputs": [
    {
     "name": "stdout",
     "output_type": "stream",
     "text": [
      "Constructor: 89.41279 seconds\n"
     ]
    }
   ],
   "source": [
    "train_dataset = SketchBasedImageRetrievalDataset(\"Sketch_EITZ\", \"train.txt\", \"Flickr25K\", \"mapping.txt\", use_triplets=True)"
   ]
  },
  {
   "cell_type": "code",
   "execution_count": 4,
   "metadata": {
    "id": "ZYLTsjxGWS4y"
   },
   "outputs": [],
   "source": [
    "torch.save(train_dataset, 'SBIR_train_dataset.pt')"
   ]
  },
  {
   "cell_type": "code",
   "execution_count": 5,
   "metadata": {
    "colab": {
     "base_uri": "https://localhost:8080/"
    },
    "id": "_S5xbaYnazpX",
    "outputId": "b2b93709-5ab0-44a7-99ce-f926ab87a342"
   },
   "outputs": [
    {
     "name": "stdout",
     "output_type": "stream",
     "text": [
      "  adding: SBIR_train_dataset.pt (deflated 84%)\n"
     ]
    }
   ],
   "source": [
    "!zip SBIR_train_dataset.zip SBIR_train_dataset.pt"
   ]
  },
  {
   "cell_type": "code",
   "execution_count": 9,
   "metadata": {
    "colab": {
     "base_uri": "https://localhost:8080/"
    },
    "id": "rWFdLAaQxFSB",
    "outputId": "cbaf9a02-1bcb-43c4-a67d-cb310eec51b3"
   },
   "outputs": [
    {
     "name": "stdout",
     "output_type": "stream",
     "text": [
      "fatal: destination path 'Dropbox-Uploader' already exists and is not an empty directory.\n",
      "\n",
      " This is the first time you run this script, please follow the instructions:\n",
      "\n",
      " 1) Open the following URL in your Browser, and log in using your account: https://www.dropbox.com/developers/apps\n",
      " 2) Click on \"Create App\", then select \"Dropbox API app\"\n",
      " 3) Now go on with the configuration, choosing the app permissions and access restrictions to your DropBox folder\n",
      " 4) Enter the \"App Name\" that you prefer (e.g. MyUploader126092337121797)\n",
      "\n",
      " Now, click on the \"Create App\" button.\n",
      "\n",
      " When your new App is successfully created, please click on the Generate button\n",
      " under the 'Generated access token' section, then execute the following command:\n",
      "\n",
      " echo \"INPUT_YOUR_ACCESS_TOKEN_HERE\" > token.txt\n",
      "\n",
      "\n",
      " Found token.txt with access token: pYnsrTWgA48AAAAAAAAAARX2U63Rm1pdHoAByjVChNPoOPc8ENnqAagihgzecqoF\n",
      "\n",
      " You can unlink this account if the token is wrong, using:\n",
      " ./dropbox-uploader.sh unlink\n",
      "\n",
      " The configuration has been saved.\n"
     ]
    }
   ],
   "source": [
    "!git clone https://github.com/thatbrguy/Dropbox-Uploader.git\n",
    "!cd Dropbox-Uploader\n",
    "!chmod +x dropbox_uploader.sh\n",
    "!echo \"pYnsrTWgA48AAAAAAAAAARX2U63Rm1pdHoAByjVChNPoOPc8ENnqAagihgzecqoF\" > token.txt"
   ]
  },
  {
   "cell_type": "code",
   "execution_count": 10,
   "metadata": {
    "colab": {
     "base_uri": "https://localhost:8080/"
    },
    "id": "6CuHqsFL1zkT",
    "outputId": "99e68f8d-ac39-4089-ffc1-98ec6448d253"
   },
   "outputs": [
    {
     "name": "stdout",
     "output_type": "stream",
     "text": [
      " > Uploading \"/content/SBIR_train_dataset2.zip\" to \"/SBIR_train_dataset2.zip\" by 44 chunks ............................................ DONE\n"
     ]
    }
   ],
   "source": [
    "!bash dropbox_uploader.sh upload ../SBIR_train_dataset.zip /"
   ]
  }
 ],
 "metadata": {
  "colab": {
   "collapsed_sections": [],
   "machine_shape": "hm",
   "name": "Copia de VR_DL_2.ipynb",
   "provenance": [],
   "toc_visible": true
  },
  "kernelspec": {
   "display_name": "Python 3",
   "language": "python",
   "name": "python3"
  },
  "language_info": {
   "codemirror_mode": {
    "name": "ipython",
    "version": 3
   },
   "file_extension": ".py",
   "mimetype": "text/x-python",
   "name": "python",
   "nbconvert_exporter": "python",
   "pygments_lexer": "ipython3",
   "version": "3.7.8"
  }
 },
 "nbformat": 4,
 "nbformat_minor": 1
}
