{
  "nbformat": 4,
  "nbformat_minor": 0,
  "metadata": {
    "colab": {
      "name": "VR_DL_2.ipynb",
      "provenance": [],
      "collapsed_sections": [],
      "machine_shape": "hm"
    },
    "kernelspec": {
      "name": "python3",
      "display_name": "Python 3"
    },
    "language_info": {
      "name": "python"
    }
  },
  "cells": [
    {
      "cell_type": "markdown",
      "metadata": {
        "id": "5wlEJwvtXV9M"
      },
      "source": [
        "## Libraries and Utilities"
      ]
    },
    {
      "cell_type": "code",
      "metadata": {
        "id": "zZ05UwSAbFna"
      },
      "source": [
        "# Generic python libraries\n",
        "import os\n",
        "import math\n",
        "import random\n",
        "from PIL import Image\n",
        "from random import sample\n",
        "\n",
        "# PyTorch and numpy related\n",
        "import torch\n",
        "import numpy as np\n",
        "import torch.nn as nn\n",
        "import torch.optim as optim\n",
        "import torch.nn.functional as F\n",
        "from torchvision import transforms\n",
        "from torch.utils.data import Dataset, DataLoader, random_split\n",
        "\n",
        "# External tool (built by us) to format the dataset structure\n",
        "if not os.path.exists('utils.py'):\n",
        "  !wget https://raw.githubusercontent.com/humbertordrgs/VR_DL_2/master/utils/utils.py\n",
        "\n",
        "from utils import load_images, get_class_map, get_processed_img, execution_time"
      ],
      "execution_count": null,
      "outputs": []
    },
    {
      "cell_type": "markdown",
      "metadata": {
        "id": "9LpjaFxJXPQ_"
      },
      "source": [
        "## Dowloading Datasets"
      ]
    },
    {
      "cell_type": "code",
      "metadata": {
        "id": "I5TITxs5W8sL"
      },
      "source": [
        "# Sketches dataset\n",
        "if not os.path.exists('Sketch_EITZ.zip'):\n",
        "  !wget https://www.dropbox.com/s/ut350iwgby9swk2/Sketch_EITZ.zip && unzip -q Sketch_EITZ.zip\n",
        "\n",
        "# Gallery Image Retrieval for Train and validation\n",
        "if not os.path.exists('Flickr25K.zip'):\n",
        "  !wget https://www.dropbox.com/s/khbxruh3acq84eg/Flickr25K.zip && unzip -q Flickr25K.zip\n",
        "\n",
        "# Gallery Image Retrieval for Test\n",
        "# if not os.path.exists('Flickr15K.zip'):\n",
        "#   !wget https://www.dropbox.com/s/q5ew09x4e3rsiht/Flickr15K.zip && unzip -q Flickr15K.zip\n"
      ],
      "execution_count": null,
      "outputs": []
    },
    {
      "cell_type": "code",
      "metadata": {
        "id": "yHtYbPO_1xuk"
      },
      "source": [
        "class SketchBasedImageRetrievalDataset(Dataset):\n",
        "  \n",
        "  @execution_time\n",
        "  def __init__(\n",
        "    self, sketch_folder_path, sketch_index_file, \\\n",
        "    image_gallery_folder_path, mapping_file_path, use_triplets = False \\\n",
        "  ):\n",
        "\n",
        "    self.use_triplets = use_triplets\n",
        "    self.sketches = []\n",
        "    self.classes = []\n",
        "    self.positive_images = []\n",
        "    if use_triplets:\n",
        "      self.negative_images = []\n",
        "\n",
        "    class_map = get_class_map(sketch_folder_path + \"/\" + mapping_file_path)\n",
        "    structured_images = load_images(image_gallery_folder_path)\n",
        "    index_file_path = sketch_folder_path + \"/\" + sketch_index_file\n",
        "\n",
        "    with open(index_file_path, \"r\") as sketch_file:\n",
        "      sketch_lines = sketch_file.readlines()\n",
        "      for line in sketch_lines:\n",
        "        sketch_path, sketch_idx = line.split()\n",
        "        sketch_path = sketch_folder_path + \"/\" + sketch_path\n",
        "        sketch_class = class_map[sketch_idx]\n",
        "\n",
        "        positive_random_image = sample(structured_images[sketch_class], 1)[0]\n",
        "        positive_image_path = f\"{image_gallery_folder_path}/{sketch_class}/{positive_random_image}\"\n",
        "\n",
        "        self.sketches.append(get_processed_img(sketch_path))\n",
        "        self.positive_images.append(get_processed_img(positive_image_path))\n",
        "        self.classes.append(int(sketch_idx))\n",
        "\n",
        "        if use_triplets:\n",
        "          while True:\n",
        "            negative_random_class_idx = str(random.randint(0, 249))\n",
        "            if negative_random_class_idx != sketch_idx:\n",
        "              negative_class = class_map[negative_random_class_idx]\n",
        "              negative_random_image = sample(structured_images[negative_class], 1)[0]\n",
        "              negative_image_path = f\"{image_gallery_folder_path}/{negative_class}/{negative_random_image}\"\n",
        "              self.negative_images.append(get_processed_img(negative_image_path))\n",
        "              break\n",
        "  def __len__(self):\n",
        "    return len(self.sketches)\n",
        "\n",
        "  def __getitem__(self, idx):\n",
        "    if self.use_triplets:\n",
        "      return (self.sketches[idx], self.positive_images[idx], self.negative_images[idx]), self.classes[idx]\n",
        "    return (self.sketches[idx], self.positive_images[idx]), self.classes[idx]"
      ],
      "execution_count": null,
      "outputs": []
    },
    {
      "cell_type": "code",
      "metadata": {
        "id": "ywIus1wEkAXI",
        "colab": {
          "base_uri": "https://localhost:8080/"
        },
        "outputId": "be3e4a85-1717-411c-fd2c-79be29cc1937"
      },
      "source": [
        "train_dataset = SketchBasedImageRetrievalDataset(\"Sketch_EITZ\", \"train.txt\", \"Flickr25K\", \"mapping.txt\", use_triplets=True)"
      ],
      "execution_count": null,
      "outputs": [
        {
          "output_type": "stream",
          "text": [
            "Constructor: 196.35094 seconds\n"
          ],
          "name": "stdout"
        }
      ]
    },
    {
      "cell_type": "code",
      "metadata": {
        "id": "ZYLTsjxGWS4y"
      },
      "source": [
        "torch.save(train_dataset, 'SBIR_train_dataset.pt')"
      ],
      "execution_count": null,
      "outputs": []
    },
    {
      "cell_type": "code",
      "metadata": {
        "colab": {
          "base_uri": "https://localhost:8080/"
        },
        "id": "_S5xbaYnazpX",
        "outputId": "170fa692-533c-40bf-d4cd-6f58a365e190"
      },
      "source": [
        "!zip SBIR_train_dataset.zip SBIR_train_dataset.pt"
      ],
      "execution_count": null,
      "outputs": [
        {
          "output_type": "stream",
          "text": [
            "  adding: SBIR_train_dataset.pt (deflated 81%)\n"
          ],
          "name": "stdout"
        }
      ]
    }
  ]
}